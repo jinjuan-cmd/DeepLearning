{
  "nbformat": 4,
  "nbformat_minor": 0,
  "metadata": {
    "colab": {
      "name": "2_Image_preprocessing.ipynb",
      "provenance": [],
      "collapsed_sections": [],
      "authorship_tag": "ABX9TyNmmN7Ow3emXkRjdY5/6BqT",
      "include_colab_link": true
    },
    "kernelspec": {
      "name": "python3",
      "display_name": "Python 3"
    }
  },
  "cells": [
    {
      "cell_type": "markdown",
      "metadata": {
        "id": "view-in-github",
        "colab_type": "text"
      },
      "source": [
        "<a href=\"https://colab.research.google.com/github/jinjuan-cmd/DeepLearning/blob/main/2_Image_preprocessing.ipynb\" target=\"_parent\"><img src=\"https://colab.research.google.com/assets/colab-badge.svg\" alt=\"Open In Colab\"/></a>"
      ]
    },
    {
      "cell_type": "markdown",
      "metadata": {
        "id": "Ol3wYW7OLYvd"
      },
      "source": [
        "The objective of this project is integrate pretrained CNN with preprocessing capability to realize teh fucntion fo handwritten digits recognition. There are two method:"
      ]
    },
    {
      "cell_type": "markdown",
      "metadata": {
        "id": "uGeljIr_Jsfy"
      },
      "source": [
        "# Method 1: Threshold Method\n",
        "\n",
        "\n",
        "1.   video capture\n",
        "2.   convert the image to grayscale and binarize it\n",
        "\n",
        "  $$ B(x,y)=   \\left\\{\n",
        "\\begin{array}{ll}\n",
        "      255 & I(x,y)\\geq Threshold \\\\\n",
        "      0 & otherwise\\\\\n",
        "\\end{array} \n",
        "\\right.  $$\n",
        "\n",
        "3.   find contour of binary image \n",
        "\n",
        "     So what is contour? python list of all the contours in the image. Each individual contour is numpy array (x,y) coordinates the boundary of the object. It encode the information of the location of points on the curve.\n",
        "\n",
        "     In order to find our ROI(region of interest) , we need to sort contourarea and find relative big contour area.\n",
        "4.   find the bounding coordinate of each interested contour area.\n",
        "5.  square image by setting the max side of ROI and filling 0 backgroud for short side, such that keep **Aspect Ratio**\n",
        "6.  resize the squared image to the same shape in the pretrained model.\n",
        "7.  load pretrained model and do predict of our processed images.\n",
        "\n",
        "\n",
        "\n",
        "\n"
      ]
    },
    {
      "cell_type": "markdown",
      "metadata": {
        "id": "WihOwXuaSkQf"
      },
      "source": [
        "## Hand calculation of ROI\n",
        "We can use opencv function to find bounding of ROI, another method is by hand calculation.\n",
        "\n",
        "*   First, Compute $\\bar X, \\bar Y$\n",
        "\n",
        "$\\bar X=\\frac{\\iint_{\\Omega} x B(x,y) \\,dx$}{\\iint_{\\Omega}  B(x,y) \\,dx$}$ ,\n",
        "$\\bar Y=\\frac{\\iint_{\\Omega} y B(x,y) \\,dx$}{\\iint_{\\Omega}  B(x,y) \\,dx$}$\n",
        "*   Find Width and Height of ROI\n",
        "    \n",
        "    finding \"W,H\" of ROI is based on search non-zero element of the binary image B(x,y) ,$(x_{min},y_{min}) and (x_{max},y_{max})$\n",
        "\n"
      ]
    },
    {
      "cell_type": "code",
      "metadata": {
        "id": "996ZbOOQRa3d"
      },
      "source": [
        "#code in 'digdetect_cam.py'"
      ],
      "execution_count": null,
      "outputs": []
    },
    {
      "cell_type": "markdown",
      "metadata": {
        "id": "9bAgWSf-rbWd"
      },
      "source": [
        "# Method 2 Canny\n",
        "1.   video capture\n",
        "2.   convert the image to grayscale and get canny map\n",
        "\n",
        "     **Canny** emphasize the sudden changes in terms of intensity and color\n",
        "\n",
        "3.  reduce noise before find contour\n",
        "    \n",
        "  There are two method to reduce noise. First, change canny threshold. increasing upper threshold and lower treshold will help getting rid of fine detais and random noise. Second,use Gaussian blur. We need to define kernel size(etc. 5by5, 7by7) and $\\sigma$ (etc. 1.8-2.8). When increase the kernel size and increase the $\\sigma$, fine details will be removed. \n",
        "\n",
        "  Let's now talk more about Gaussian blur. \n",
        "\n",
        "![image.png](data:image/png;base64,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)\n",
        "\n",
        " "
      ]
    },
    {
      "cell_type": "markdown",
      "metadata": {
        "id": "qULIG2_G_8B6"
      },
      "source": [
        "It is a weighted methods, weights high at the center, blur image emphasize the image pixel that close  to the center. $\\sigma \\downarrow$ means blur less. It is same with the kernerl size, when increase the size, more neighboring pixels are included, so that will lose more details.\n",
        "\n",
        "\n",
        "3.   find contour of blured image \n",
        "\n",
        "     So what is contour? It can be explained that a curve joining all the continuous points (along the boundary), having same color or intensity. It is  python list of all the contours in the image. Each individual contour is numpy array (x,y) coordinates the boundary of the object. It encode the information of the location of points on the curve.\n",
        "\n",
        "     In order to find our ROI(region of interest) , we need to sort contourarea and find relative big contour area.\n",
        "4.   find the bounding coordinate of each interested contour area.\n",
        "5.  square image by setting the max side of ROI and filling 0 backgroud for short side, such that keep **Aspect Ratio**\n",
        "6.  resize the squared image to the same shape in the pretrained model.\n",
        "7.  load pretrained model and do predict of our processed images.\n",
        "\n"
      ]
    },
    {
      "cell_type": "code",
      "metadata": {
        "id": "1O3Mkx37xs0w"
      },
      "source": [
        "#code in 'MNIST_dectection.py'"
      ],
      "execution_count": null,
      "outputs": []
    },
    {
      "cell_type": "code",
      "metadata": {
        "id": "iPMRBinkAMMT"
      },
      "source": [
        ""
      ],
      "execution_count": null,
      "outputs": []
    }
  ]
}